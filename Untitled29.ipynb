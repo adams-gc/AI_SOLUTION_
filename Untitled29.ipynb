{
  "nbformat": 4,
  "nbformat_minor": 0,
  "metadata": {
    "colab": {
      "provenance": [],
      "cell_execution_strategy": "setup",
      "authorship_tag": "ABX9TyMgxFsSom6ypuiCb9QsZQbd",
      "include_colab_link": true
    },
    "kernelspec": {
      "name": "python3",
      "display_name": "Python 3"
    },
    "language_info": {
      "name": "python"
    }
  },
  "cells": [
    {
      "cell_type": "markdown",
      "metadata": {
        "id": "view-in-github",
        "colab_type": "text"
      },
      "source": [
        "<a href=\"https://colab.research.google.com/github/adams-gc/AI_SOLUTION_/blob/main/Untitled29.ipynb\" target=\"_parent\"><img src=\"https://colab.research.google.com/assets/colab-badge.svg\" alt=\"Open In Colab\"/></a>"
      ]
    },
    {
      "cell_type": "code",
      "execution_count": 1,
      "metadata": {
        "id": "8GfqxQnxZfit"
      },
      "outputs": [],
      "source": [
        "# This Python 3 environment comes with many helpful analytics libraries installed\n",
        "# It is defined by the kaggle/python docker image: https://github.com/kaggle/docker-python\n",
        "# For example, here's several helpful packages to load in\n",
        "\n",
        "import numpy as np\n",
        "import pandas as pd\n",
        "import math\n",
        "import json\n",
        "import time\n",
        "import matplotlib.pyplot as plt\n",
        "import seaborn as sns\n",
        "from sklearn.metrics.pairwise import cosine_similarity\n",
        "from sklearn.model_selection import train_test_split\n",
        "from sklearn.neighbors import NearestNeighbors\n",
        "#from sklearn.externals import joblib\n",
        "import scipy.sparse\n",
        "from scipy.sparse import csr_matrix\n",
        "import warnings; warnings.simplefilter('ignore')\n",
        "%matplotlib inline\n",
        "\n",
        "# Input data files are available in the \"../input/\" directory.\n",
        "# For example, running this (by clicking run or pressing Shift+Enter) will list all files under the input directory\n",
        "\n",
        "import os\n",
        "for dirname, _, filenames in os.walk('/kaggle/input'):\n",
        "    for filename in filenames:\n",
        "        print(os.path.join(dirname, filename))\n",
        "\n",
        "# Any results you write to the current directory are saved as output."
      ]
    },
    {
      "cell_type": "code",
      "source": [
        "\n",
        "df= pd.read_csv('/content/Reviews.csv.zip')\n",
        "print(\"Sample data:\")\n",
        "print(df.head())"
      ],
      "metadata": {
        "colab": {
          "base_uri": "https://localhost:8080/"
        },
        "id": "Ohd7MWYlZ4dH",
        "outputId": "635af777-333f-40c0-f2e6-25e9535c374a"
      },
      "execution_count": 2,
      "outputs": [
        {
          "output_type": "stream",
          "name": "stdout",
          "text": [
            "Sample data:\n",
            "   Id   ProductId          UserId                      ProfileName  \\\n",
            "0   1  B001E4KFG0  A3SGXH7AUHU8GW                       delmartian   \n",
            "1   2  B00813GRG4  A1D87F6ZCVE5NK                           dll pa   \n",
            "2   3  B000LQOCH0   ABXLMWJIXXAIN  Natalia Corres \"Natalia Corres\"   \n",
            "3   4  B000UA0QIQ  A395BORC6FGVXV                             Karl   \n",
            "4   5  B006K2ZZ7K  A1UQRSCLF8GW1T    Michael D. Bigham \"M. Wassir\"   \n",
            "\n",
            "   HelpfulnessNumerator  HelpfulnessDenominator  Score        Time  \\\n",
            "0                     1                       1      5  1303862400   \n",
            "1                     0                       0      1  1346976000   \n",
            "2                     1                       1      4  1219017600   \n",
            "3                     3                       3      2  1307923200   \n",
            "4                     0                       0      5  1350777600   \n",
            "\n",
            "                 Summary                                               Text  \n",
            "0  Good Quality Dog Food  I have bought several of the Vitality canned d...  \n",
            "1      Not as Advertised  Product arrived labeled as Jumbo Salted Peanut...  \n",
            "2  \"Delight\" says it all  This is a confection that has been around a fe...  \n",
            "3         Cough Medicine  If you are looking for the secret ingredient i...  \n",
            "4            Great taffy  Great taffy at a great price.  There was a wid...  \n"
          ]
        }
      ]
    },
    {
      "cell_type": "code",
      "source": [
        "# Drop unnecessary columns\n",
        "columns_to_drop = ['Id', 'ProfileName', 'Time', 'HelpfulnessNumerator',\n",
        "                   'HelpfulnessDenominator', 'Text', 'Summary']\n",
        "df = df.drop(columns=columns_to_drop)"
      ],
      "metadata": {
        "id": "RqWobQOWajIt"
      },
      "execution_count": 3,
      "outputs": []
    },
    {
      "cell_type": "code",
      "source": [
        " #Display dataset info\n",
        "print(f\"\\nDataset shape: {df.shape}\")\n",
        "print(\"Column data types:\\n\", df.dtypes)\n",
        "print(\"\\nMissing values per column:\\n\", df.isnull().sum())\n"
      ],
      "metadata": {
        "colab": {
          "base_uri": "https://localhost:8080/"
        },
        "id": "r1KsHm5Yd1Q8",
        "outputId": "e5b5365a-a1af-4d62-9457-68e6926d6d49"
      },
      "execution_count": 5,
      "outputs": [
        {
          "output_type": "stream",
          "name": "stdout",
          "text": [
            "\n",
            "Dataset shape: (568454, 3)\n",
            "Column data types:\n",
            " ProductId    object\n",
            "UserId       object\n",
            "Score         int64\n",
            "dtype: object\n",
            "\n",
            "Missing values per column:\n",
            " ProductId    0\n",
            "UserId       0\n",
            "Score        0\n",
            "dtype: int64\n"
          ]
        }
      ]
    },
    {
      "cell_type": "code",
      "source": [
        "# Summary statistics for the 'Score' column\n",
        "print(\"\\nScore summary:\")\n",
        "print(df[['Score']].describe())\n"
      ],
      "metadata": {
        "colab": {
          "base_uri": "https://localhost:8080/"
        },
        "id": "ddQHsie4eayc",
        "outputId": "4ba46d8e-aaac-4700-ef2a-54dcd7d3a9f2"
      },
      "execution_count": 6,
      "outputs": [
        {
          "output_type": "stream",
          "name": "stdout",
          "text": [
            "\n",
            "Score summary:\n",
            "               Score\n",
            "count  568454.000000\n",
            "mean        4.183199\n",
            "std         1.310436\n",
            "min         1.000000\n",
            "25%         4.000000\n",
            "50%         5.000000\n",
            "75%         5.000000\n",
            "max         5.000000\n"
          ]
        }
      ]
    },
    {
      "cell_type": "code",
      "source": [
        "# Find min and max ratings\n",
        "def print_rating_stats(df):\n",
        "    min_rating = df['Score'].min()\n",
        "    max_rating = df['Score'].max()\n",
        "    print(f\"\\nRatings range: {min_rating} - {max_rating}\")\n",
        "\n",
        "print_rating_stats(df)\n",
        "\n"
      ],
      "metadata": {
        "colab": {
          "base_uri": "https://localhost:8080/"
        },
        "id": "A5nqb3_oejiG",
        "outputId": "f352e322-238a-40df-dedd-b0a11abc2f24"
      },
      "execution_count": 7,
      "outputs": [
        {
          "output_type": "stream",
          "name": "stdout",
          "text": [
            "\n",
            "Ratings range: 1 - 5\n"
          ]
        }
      ]
    },
    {
      "cell_type": "code",
      "source": [
        "# Plot rating distribution\n",
        "def plot_rating_distribution(df):\n",
        "    sns.countplot(x='Score', data=df, palette=\"muted\")\n",
        "    plt.title(\"Distribution of Ratings\")\n",
        "    plt.xlabel(\"Ratings\")\n",
        "    plt.ylabel(\"Count\")\n",
        "    plt.show()\n",
        "\n",
        "plot_rating_distribution(df)\n"
      ],
      "metadata": {
        "colab": {
          "base_uri": "https://localhost:8080/",
          "height": 472
        },
        "id": "uCSMfuRoetTH",
        "outputId": "5cc517e1-a6c7-487f-857f-e5fe4d2a0a3d"
      },
      "execution_count": 8,
      "outputs": [
        {
          "output_type": "display_data",
          "data": {
            "text/plain": [
              "<Figure size 640x480 with 1 Axes>"
            ],
            "image/png": "[encoded data removed]"
          },
          "metadata": {}
        }
      ]
    },
    {
      "cell_type": "code",
      "source": [
        "# Unique user and product counts\n",
        "print(\"\\nUnique counts:\")\n",
        "print(f\"Users: {df['UserId'].nunique()}\")\n",
        "print(f\"Products: {df['ProductId'].nunique()}\")\n"
      ],
      "metadata": {
        "colab": {
          "base_uri": "https://localhost:8080/"
        },
        "id": "xvb5wzxDe0hU",
        "outputId": "40374ada-a645-49d7-ed90-9aefb137bf67"
      },
      "execution_count": 9,
      "outputs": [
        {
          "output_type": "stream",
          "name": "stdout",
          "text": [
            "\n",
            "Unique counts:\n",
            "Users: 256059\n",
            "Products: 74258\n"
          ]
        }
      ]
    },
    {
      "cell_type": "code",
      "source": [
        "# Filter users with at least 50 ratings\n",
        "def filter_users_by_ratings(df, min_ratings=50):\n",
        "    user_counts = df['UserId'].value_counts()\n",
        "    return df[df['UserId'].isin(user_counts[user_counts >= min_ratings].index)]\n",
        "\n",
        "df_filtered = filter_users_by_ratings(df)\n",
        "print(\"\\nFiltered dataset shape:\", df_filtered.shape)\n",
        "print(f\"Users (>=50 ratings): {df_filtered['UserId'].nunique()}\")\n",
        "print(f\"Products: {df_filtered['ProductId'].nunique()}\")\n"
      ],
      "metadata": {
        "colab": {
          "base_uri": "https://localhost:8080/"
        },
        "id": "bnQAZ5zTe4rQ",
        "outputId": "4491edc1-ff60-4e8b-8f5f-cb2b9d47af53"
      },
      "execution_count": 10,
      "outputs": [
        {
          "output_type": "stream",
          "name": "stdout",
          "text": [
            "\n",
            "Filtered dataset shape: (22941, 3)\n",
            "Users (>=50 ratings): 267\n",
            "Products: 11313\n"
          ]
        }
      ]
    },
    {
      "cell_type": "code",
      "source": [
        "# Create ratings matrix\n",
        "def create_ratings_matrix(df):\n",
        "    ratings_matrix = pd.pivot_table(df, index='UserId', columns='ProductId', values='Score', fill_value=0)\n",
        "    return ratings_matrix\n",
        "\n",
        "ratings_matrix = create_ratings_matrix(df_filtered)\n",
        "print(\"\\nRatings matrix shape:\", ratings_matrix.shape)"
      ],
      "metadata": {
        "colab": {
          "base_uri": "https://localhost:8080/"
        },
        "id": "oMetEP6se_yZ",
        "outputId": "32067e04-db96-41b9-99a5-cd2148677c0d"
      },
      "execution_count": 11,
      "outputs": [
        {
          "output_type": "stream",
          "name": "stdout",
          "text": [
            "\n",
            "Ratings matrix shape: (267, 11313)\n"
          ]
        }
      ]
    },
    {
      "cell_type": "code",
      "source": [
        "\n",
        "# Calculate density\n",
        "def calculate_density(matrix):\n",
        "    given_ratings = np.count_nonzero(matrix)\n",
        "    possible_ratings = matrix.shape[0] * matrix.shape[1]\n",
        "    density = (given_ratings / possible_ratings) * 100\n",
        "    print(f\"\\nMatrix density: {density:.2f}%\")\n",
        "\n",
        "calculate_density(ratings_matrix)\n"
      ],
      "metadata": {
        "colab": {
          "base_uri": "https://localhost:8080/"
        },
        "id": "_RdkBYHmfKMe",
        "outputId": "ca99b5f8-aee8-472c-f80a-d0dbd0462b48"
      },
      "execution_count": 12,
      "outputs": [
        {
          "output_type": "stream",
          "name": "stdout",
          "text": [
            "\n",
            "Matrix density: 0.69%\n"
          ]
        }
      ]
    },
    {
      "cell_type": "code",
      "source": [
        "# Display a sample of the ratings matrix\n",
        "print(\"\\nSample of ratings matrix:\")\n",
        "print(ratings_matrix.head())"
      ],
      "metadata": {
        "colab": {
          "base_uri": "https://localhost:8080/"
        },
        "id": "6OS4dbZLfP1b",
        "outputId": "94d24eef-0db6-448e-bec1-f81116ebfc7e"
      },
      "execution_count": 13,
      "outputs": [
        {
          "output_type": "stream",
          "name": "stdout",
          "text": [
            "\n",
            "Sample of ratings matrix:\n",
            "ProductId       7310172001  7310172101  7800648702  B00004CI84  B00004CXX9  \\\n",
            "UserId                                                                       \n",
            "A100WO06OQR8BQ         0.0         0.0         0.0         0.0         0.0   \n",
            "A106ZCP7RSXMRU         0.0         0.0         0.0         0.0         0.0   \n",
            "A1080SE9X3ECK0         0.0         0.0         0.0         0.0         0.0   \n",
            "A10G136JEISLVR         0.0         0.0         0.0         0.0         0.0   \n",
            "A11ED8O95W2103         0.0         0.0         0.0         0.0         0.0   \n",
            "\n",
            "ProductId       B00004RBDU  B00004RBDZ  B00004RYGX  B00004S1C6  B000052Y74  \\\n",
            "UserId                                                                       \n",
            "A100WO06OQR8BQ         1.0         0.0         0.0         0.0         0.0   \n",
            "A106ZCP7RSXMRU         0.0         0.0         0.0         0.0         0.0   \n",
            "A1080SE9X3ECK0         0.0         0.0         0.0         0.0         0.0   \n",
            "A10G136JEISLVR         0.0         0.0         0.0         0.0         0.0   \n",
            "A11ED8O95W2103         0.0         0.0         0.0         0.0         0.0   \n",
            "\n",
            "ProductId       ...  B009KAQZ9G  B009KAQZIM  B009KOHGEK  B009KP6HBM  \\\n",
            "UserId          ...                                                   \n",
            "A100WO06OQR8BQ  ...         0.0         0.0         0.0         0.0   \n",
            "A106ZCP7RSXMRU  ...         0.0         0.0         0.0         0.0   \n",
            "A1080SE9X3ECK0  ...         0.0         0.0         0.0         0.0   \n",
            "A10G136JEISLVR  ...         0.0         0.0         0.0         0.0   \n",
            "A11ED8O95W2103  ...         0.0         0.0         0.0         0.0   \n",
            "\n",
            "ProductId       B009LRLB6U  B009LT26BC  B009M2LUEW  B009PCDDO4  B009QEBGIQ  \\\n",
            "UserId                                                                       \n",
            "A100WO06OQR8BQ         0.0         0.0         0.0         0.0         0.0   \n",
            "A106ZCP7RSXMRU         0.0         0.0         0.0         0.0         0.0   \n",
            "A1080SE9X3ECK0         0.0         0.0         0.0         0.0         0.0   \n",
            "A10G136JEISLVR         0.0         0.0         0.0         0.0         0.0   \n",
            "A11ED8O95W2103         0.0         0.0         0.0         0.0         0.0   \n",
            "\n",
            "ProductId       B009RB4GO4  \n",
            "UserId                      \n",
            "A100WO06OQR8BQ         0.0  \n",
            "A106ZCP7RSXMRU         0.0  \n",
            "A1080SE9X3ECK0         0.0  \n",
            "A10G136JEISLVR         0.0  \n",
            "A11ED8O95W2103         0.0  \n",
            "\n",
            "[5 rows x 11313 columns]\n"
          ]
        }
      ]
    },
    {
      "cell_type": "code",
      "source": [
        "\n",
        "# Split data into train and test sets (70-30 split)\n",
        "train, test = train_test_split(ratings_matrix, test_size=0.3, random_state=42)\n",
        "print(\"\\nTrain-test split:\")\n",
        "print(f\"Train shape: {train.shape}\")\n",
        "print(f\"Test shape: {test.shape}\")"
      ],
      "metadata": {
        "colab": {
          "base_uri": "https://localhost:8080/"
        },
        "id": "m563xPCIfVLt",
        "outputId": "61a498ab-a042-424b-9d52-61f726534fc4"
      },
      "execution_count": 14,
      "outputs": [
        {
          "output_type": "stream",
          "name": "stdout",
          "text": [
            "\n",
            "Train-test split:\n",
            "Train shape: (186, 11313)\n",
            "Test shape: (81, 11313)\n"
          ]
        }
      ]
    },
    {
      "cell_type": "code",
      "source": [],
      "metadata": {
        "id": "J0KUx_KyfcHH"
      },
      "execution_count": null,
      "outputs": []
    }
  ]
}